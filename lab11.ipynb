{
  "nbformat": 4,
  "nbformat_minor": 0,
  "metadata": {
    "colab": {
      "provenance": [],
      "mount_file_id": "1PTVtPuG4ETPBkOzQwX_PhgYHdKAcm16i",
      "authorship_tag": "ABX9TyPgA6MkLNVizgLMCvVjA+RN",
      "include_colab_link": true
    },
    "kernelspec": {
      "name": "python3",
      "display_name": "Python 3"
    },
    "language_info": {
      "name": "python"
    }
  },
  "cells": [
    {
      "cell_type": "markdown",
      "metadata": {
        "id": "view-in-github",
        "colab_type": "text"
      },
      "source": [
        "<a href=\"https://colab.research.google.com/github/eddy123457/DataScience_Regression_OLS/blob/main/lab11.ipynb\" target=\"_parent\"><img src=\"https://colab.research.google.com/assets/colab-badge.svg\" alt=\"Open In Colab\"/></a>"
      ]
    },
    {
      "cell_type": "code",
      "execution_count": null,
      "metadata": {
        "id": "DBDU0ADz_HOr",
        "colab": {
          "base_uri": "https://localhost:8080/",
          "height": 332
        },
        "outputId": "d28cab15-ac60-4254-c429-457048fb75da"
      },
      "outputs": [
        {
          "output_type": "stream",
          "name": "stdout",
          "text": [
            "[-5, -1, 3, 7, 5, 9]\n",
            "[-10, -3, 5, 8, 7, 9]\n"
          ]
        },
        {
          "output_type": "display_data",
          "data": {
            "text/plain": [
              "<Figure size 432x288 with 1 Axes>"
            ],
            "image/png": "[encoded data removed]"
          },
          "metadata": {
            "needs_background": "light"
          }
        }
      ],
      "source": [
        "import numpy as np\n",
        "from matplotlib import pyplot as plt\n",
        "li= [(-5, -10), (-1, -3), (3, 5), (7, 8), (5, 7), (9, 9)]\n",
        "x=[]\n",
        "y=[]\n",
        "for r in li:\n",
        "  for c in range(0,len(r)):\n",
        "    if(c == 0):\n",
        "      x.append(r[c])\n",
        "    else:\n",
        "      y.append(r[c])\n",
        "\n",
        "print(x)\n",
        "print(y)\n",
        "li2=[1 for x in range(len(x))]\n",
        "\n",
        "x2=np.asarray(x)\n",
        "xT=np.vstack([li2,np.asarray(x)])\n",
        "x2=np.transpose(xT)\n",
        "y2=np.asarray(y).reshape(len(y),1)\n",
        "xTx=np.matmul(xT, x2)\n",
        "\n",
        "xTy=np.matmul(xT, y2)\n",
        "\n",
        "A=np.matmul(np.linalg.inv(xTx), xTy)\n",
        "yEQ=A[0]+ (A[1] *x)\n",
        "\n",
        "plt.plot(x,yEQ,color = 'b')\n",
        "plt.scatter(x,y, color = 'r')\n",
        "plt.title('Least Squares Regression Line')\n",
        "plt.ylabel('Y-axis')\n",
        "plt.xlabel('X-axis')\n",
        "plt.show()"
      ]
    },
    {
      "cell_type": "code",
      "source": [
        "import numpy as np\n",
        "from matplotlib import pyplot as plt\n",
        "\n",
        "li= [(-5, -10), (-1, -3), (3, 5), (7, 8), (5, 7), (9, 9)]\n",
        "x=[]\n",
        "y=[]\n",
        "for r in li:\n",
        "  for c in range(0,len(r)):\n",
        "    if(c == 0):\n",
        "      x.append(r[c])\n",
        "    else:\n",
        "      y.append(r[c])\n",
        "x=np.asarray(x)\n",
        "print(np.shape(x))\n",
        "w1 = ((np.mean(x*y)) - (np.mean(x) * np.mean(y))) / (np.mean(x**2) -(np.mean(x)**2))\n",
        "print(f'w1 (slope): {w1}')\n",
        "w0 = np.mean(y) - w1*np.mean(x)\n",
        "print(f'w0 (y-intercept): {w0}')\n",
        "Ymodel = w0 + (w1*x)\n",
        "print(f'x-values: {x}')\n",
        "print(f'Predicted y-values: {Ymodel}')\n",
        "print(f'Actual y-values: {y}')\n",
        "plt.scatter(x, y)\n",
        "plt.plot(x, Ymodel)\n",
        "plt.ylabel('Y-axis')\n",
        "plt.xlabel('X-axis')\n",
        "plt.show()"
      ],
      "metadata": {
        "colab": {
          "base_uri": "https://localhost:8080/",
          "height": 383
        },
        "id": "S19k_cWfAuX9",
        "outputId": "d99828fe-cb40-4b2e-a388-964af31adb56"
      },
      "execution_count": 1,
      "outputs": [
        {
          "output_type": "stream",
          "name": "stdout",
          "text": [
            "(6,)\n",
            "w1 (slope): 1.4117647058823528\n",
            "w0 (y-intercept): -1.5686274509803915\n",
            "x-values: [-5 -1  3  7  5  9]\n",
            "Predicted y-values: [-8.62745098 -2.98039216  2.66666667  8.31372549  5.49019608 11.1372549 ]\n",
            "Actual y-values: [-10, -3, 5, 8, 7, 9]\n"
          ]
        },
        {
          "output_type": "display_data",
          "data": {
            "text/plain": [
              "<Figure size 432x288 with 1 Axes>"
            ],
            "image/png": "[encoded data removed]"
          },
          "metadata": {
            "needs_background": "light"
          }
        }
      ]
    },
    {
      "cell_type": "code",
      "source": [
        "from matplotlib import pyplot as plt\n",
        "from scipy import stats\n",
        "import numpy as np\n",
        "li= [(-5, -10), (-1, -3), (3, 5), (7, 8), (5, 7), (9, 9)]\n",
        "x=[]\n",
        "y=[]\n",
        "for r in li:\n",
        "  for c in range(0,len(r)):\n",
        "    if(c == 0):\n",
        "      x.append(r[c])\n",
        "    else:\n",
        "      y.append(r[c])\n",
        "x=np.asarray(x)\n",
        "slope, y_intercept, r, p, std_err = stats.linregress(x, y)\n",
        "print(f'Slope: {slope}, y-intercept: {y_intercept}, correlation: {r}, p-value: {p},standard error: {std_err}')\n",
        "mymodel = y_intercept + slope*x\n",
        "plt.scatter(x, y)\n",
        "plt.plot(x, mymodel)\n",
        "plt.ylabel('Y-axis')\n",
        "plt.xlabel('X-axis')\n",
        "plt.show()"
      ],
      "metadata": {
        "colab": {
          "base_uri": "https://localhost:8080/",
          "height": 283
        },
        "id": "JXF0FwTXGNRh",
        "outputId": "1f5b991e-bfe7-4508-d15a-e56ce773f849"
      },
      "execution_count": null,
      "outputs": [
        {
          "output_type": "stream",
          "name": "stdout",
          "text": [
            "Slope: 1.411764705882353, y-intercept: -1.5686274509803924, correlation: 0.9746653335219396, p-value: 0.0009546375197051209,standard error: 0.16198736903782646\n"
          ]
        },
        {
          "output_type": "display_data",
          "data": {
            "text/plain": [
              "<Figure size 432x288 with 1 Axes>"
            ],
            "image/png": "[encoded data removed]"
          },
          "metadata": {
            "needs_background": "light"
          }
        }
      ]
    },
    {
      "cell_type": "code",
      "source": [
        "from matplotlib import pyplot as plt\n",
        "from scipy import stats\n",
        "import statistics\n",
        "import math\n",
        "import numpy as np\n",
        "import statsmodels.api as sm\n",
        "li= [(-5, -10), (-1, -3), (3, 5), (7, 8), (5, 7), (9, 9)]\n",
        "x=[]\n",
        "y=[]\n",
        "for r in li:\n",
        "  for c in range(0,len(r)):\n",
        "    if(c == 0):\n",
        "      x.append(r[c])\n",
        "    else:\n",
        "      y.append(r[c])\n",
        "x=np.asarray(x)\n",
        "w1 = ((np.mean(x*y)) - (np.mean(x) * np.mean(y))) / (np.mean(x**2) -(np.mean(x)**2))\n",
        "w0 = np.mean(y) - w1*np.mean(x)\n",
        "Ymodel = w0 + (w1*x)\n",
        "ssr=np.sum((Ymodel-np.mean(y))**2)\n",
        "sse=np.sum((Ymodel-y)**2)\n",
        "sst=ssr+sse\n",
        "print(f'sst: {sst}, ssr: {ssr}, sse:  {sse}, R2: {1-(sse/sst)}, r: {((1-(sse/sst))**(1/2))}')\n",
        "\n",
        "#######\n",
        "x = sm.add_constant(x)\n",
        "model = sm.OLS(y, x).fit()\n",
        "print(model.summary())"
      ],
      "metadata": {
        "colab": {
          "base_uri": "https://localhost:8080/"
        },
        "id": "hFuYZdybHeCP",
        "outputId": "1952254f-c03f-4872-afd7-8849aff9d971"
      },
      "execution_count": null,
      "outputs": [
        {
          "output_type": "stream",
          "name": "stdout",
          "text": [
            "sst: 285.3333333333333, ssr: 271.05882352941177, sse:  14.274509803921568, R2: 0.9499725123694338, r: 0.9746653335219396\n",
            "                            OLS Regression Results                            \n",
            "==============================================================================\n",
            "Dep. Variable:                      y   R-squared:                       0.950\n",
            "Model:                            OLS   Adj. R-squared:                  0.937\n",
            "Method:                 Least Squares   F-statistic:                     75.96\n",
            "Date:                Sat, 12 Nov 2022   Prob (F-statistic):           0.000955\n",
            "Time:                        04:50:21   Log-Likelihood:                -11.114\n",
            "No. Observations:                   6   AIC:                             26.23\n",
            "Df Residuals:                       4   BIC:                             25.81\n",
            "Df Model:                           1                                         \n",
            "Covariance Type:            nonrobust                                         \n",
            "==============================================================================\n",
            "                 coef    std err          t      P>|t|      [0.025      0.975]\n",
            "------------------------------------------------------------------------------\n",
            "const         -1.5686      0.912     -1.721      0.160      -4.100       0.962\n",
            "x1             1.4118      0.162      8.715      0.001       0.962       1.862\n",
            "==============================================================================\n",
            "Omnibus:                          nan   Durbin-Watson:                   2.172\n",
            "Prob(Omnibus):                    nan   Jarque-Bera (JB):                0.423\n",
            "Skew:                           0.171   Prob(JB):                        0.809\n",
            "Kurtosis:                       1.745   Cond. No.                         6.71\n",
            "==============================================================================\n",
            "\n",
            "Notes:\n",
            "[1] Standard Errors assume that the covariance matrix of the errors is correctly specified.\n"
          ]
        },
        {
          "output_type": "stream",
          "name": "stderr",
          "text": [
            "/usr/local/lib/python3.7/dist-packages/statsmodels/stats/stattools.py:75: ValueWarning: omni_normtest is not valid with less than 8 observations; 6 samples were given.\n",
            "  \"samples were given.\" % int(n), ValueWarning)\n"
          ]
        }
      ]
    },
    {
      "cell_type": "code",
      "source": [
        "from matplotlib import pyplot as plt\n",
        "from scipy import stats\n",
        "import pandas as pd\n",
        "import numpy as np\n",
        "\n",
        "array = np.loadtxt('/grades.csv', delimiter=',')\n",
        "x=array[:,0]\n",
        "y=array[:,1]\n",
        "slope, y_intercept, r, p, std_err = stats.linregress(x, y)\n",
        "print(f'Slope: {slope}, y-intercept: {y_intercept}, correlation: {r}, p-value: {p},standard error: {std_err}')\n",
        "mymodel = y_intercept + slope*x\n",
        "print(f'Student with 10.5 Hours of study, {y_intercept + slope*10.5}')\n",
        "plt.scatter(x, y)\n",
        "plt.plot(x, mymodel)\n",
        "plt.title(\"Model\")\n",
        "plt.xlabel(\"Hours studied\")\n",
        "plt.ylabel(\"Grades\")\n",
        "plt.show()\n"
      ],
      "metadata": {
        "colab": {
          "base_uri": "https://localhost:8080/",
          "height": 350
        },
        "id": "2FQdhG4eLIwk",
        "outputId": "d51d1aec-7e5b-47c9-e7bb-12f904a67d69"
      },
      "execution_count": null,
      "outputs": [
        {
          "output_type": "stream",
          "name": "stdout",
          "text": [
            "Slope: 1.1038581898825588, y-intercept: 78.43674934826144, correlation: 0.9556560315163926, p-value: 2.8277177657629918e-08,standard error: 0.0943416607688875\n",
            "Student with 10.5 Hours of study, 90.02726034202831\n"
          ]
        },
        {
          "output_type": "display_data",
          "data": {
            "text/plain": [
              "<Figure size 432x288 with 1 Axes>"
            ],
            "image/png": "[encoded data removed]"
          },
          "metadata": {
            "needs_background": "light"
          }
        }
      ]
    }
  ]
}